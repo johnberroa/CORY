{
 "cells": [
  {
   "cell_type": "code",
   "execution_count": null,
   "metadata": {
    "collapsed": true
   },
   "outputs": [],
   "source": [
    "import cv2 as cv\n",
    "import numpy as np\n",
    "import epfl_data2 as epfl_data\n",
    "import matplotlib.pyplot as plt\n",
    "from skimage.feature import hog as HoG\n",
    "from sklearn.preprocessing import normalize\n",
    "from sklearn.utils import shuffle\n",
    "\n",
    "import warnings\n",
    "warnings.filterwarnings(\"ignore\", category=DeprecationWarning)"
   ]
  },
  {
   "cell_type": "code",
   "execution_count": null,
   "metadata": {},
   "outputs": [],
   "source": [
    "2299-972"
   ]
  },
  {
   "cell_type": "code",
   "execution_count": null,
   "metadata": {},
   "outputs": [],
   "source": [
    "def flip_angle(angle):\n",
    "    if angle == 180:\n",
    "        return 0\n",
    "    elif angle == 0:\n",
    "        return 180\n",
    "    else:\n",
    "        return 360-angle\n",
    "\n",
    "\n",
    "rotations = 3\n",
    "bins = 6\n",
    "\n",
    "data = epfl_data.Data(rotations,bins)\n",
    "\n",
    "\n",
    "training_images = np.zeros((1327,11016))\n",
    "training_images_f = np.zeros((1327,11016))\n",
    "test_images = np.zeros((972,11016))\n",
    "training_tgts_1 = []\n",
    "training_tgts_2 = []\n",
    "training_tgts_3 = []\n",
    "training_tgts_f1 = []\n",
    "training_tgts_f2 = []\n",
    "training_tgts_f3 = []\n",
    "train_angles = []\n",
    "train_angles_f = []\n",
    "test_tgts = []\n",
    "\n",
    "height = 250\n",
    "width = 376\n",
    "\n",
    "for d in range(len(data.samples[0])*2):\n",
    "    image = cv.imread(data.samples[0][d])\n",
    "    image = image[28:212, 30:348]\n",
    "    image = cv.cvtColor(image, cv.COLOR_BGR2GRAY)\n",
    "    f_image = np.fliplr(image)\n",
    "    if d <= 1326:\n",
    "        image = HoG(image, orientations=8, pixels_per_cell=(16,16))\n",
    "        image = normalize(image)\n",
    "        f_image = HoG(f_image, orientations=8, pixels_per_cell=(16,16))\n",
    "        f_image = normalize(image)\n",
    "        training_images[d] = image\n",
    "        training_tgts_1.append(data.samples[2][d][0])\n",
    "        training_tgts_2.append(data.samples[2][d][1])\n",
    "        training_tgts_3.append(data.samples[2][d][2])\n",
    "        training_images_f[d] = f_image\n",
    "        training_tgts_f1.append(data.samples[2][d][0])\n",
    "        training_tgts_f2.append(data.samples[2][d][1])\n",
    "        training_tgts_f3.append(data.samples[2][d][2])\n",
    "        \n",
    "        train_angles.append(np.deg2rad(data.samples[1][d]))\n",
    "        train_angles_f.append(np.deg2rad(flip_angle(data.samples[1][d])))\n",
    "    else:\n",
    "        if d-1326 == 972:\n",
    "            break\n",
    "        else:\n",
    "            image = HoG(image, orientations=8, pixels_per_cell=(16, 16))\n",
    "            image = normalize(image)\n",
    "            test_images[d-1326] = image\n",
    "            test_tgts.append(np.deg2rad(data.samples[1][d]))\n",
    "\n",
    "train = np.append(training_images, training_images_f,axis=0)\n",
    "for i in range(len(training_tgts_1)):\n",
    "    training_tgts_1.append(training_tgts_f1[i])\n",
    "    training_tgts_2.append(training_tgts_f2[i])\n",
    "    training_tgts_3.append(training_tgts_f3[i])\n",
    "for i in range(len(train_angles)):\n",
    "    train_angles.append(train_angles_f[i])\n",
    "print('done')"
   ]
  },
  {
   "cell_type": "code",
   "execution_count": null,
   "metadata": {},
   "outputs": [],
   "source": [
    "print(data.samples[3][:])"
   ]
  },
  {
   "cell_type": "code",
   "execution_count": null,
   "metadata": {},
   "outputs": [],
   "source": [
    "import keras\n",
    "from keras.models import Sequential\n",
    "from keras.layers import Dense, Dropout, Flatten, Input\n",
    "from keras.layers.convolutional import Conv1D\n",
    "from keras.models import Model\n",
    "from keras.losses import categorical_crossentropy as cross"
   ]
  },
  {
   "cell_type": "code",
   "execution_count": null,
   "metadata": {
    "collapsed": true
   },
   "outputs": [],
   "source": [
    "hog_input = Input(shape=(11016,), name='input')\n",
    "layers = Dense(1000, input_dim=11016, activation='relu')(hog_input)\n",
    "layers = Dropout(.5)(layers)\n",
    "layers = Dense(100, activation='relu')(layers)\n",
    "layers = Dropout(.5)(layers)\n",
    "layers = Dense(10, activation='relu')(layers)\n",
    "layers = Dropout(.5)(layers)\n",
    "outputs = []\n",
    "for r in range(rotations):\n",
    "    outputs.append(Dense(bins, activation='softmax', name='output{}'.format(r))(layers))"
   ]
  },
  {
   "cell_type": "code",
   "execution_count": null,
   "metadata": {},
   "outputs": [],
   "source": [
    "model = Model(inputs=hog_input, outputs=outputs)\n",
    "model.compile(optimizer='adam', loss=cross, metrics=['accuracy'])\n",
    "model.fit(train, \n",
    "          [np.asarray(training_tgts_1), np.asarray(training_tgts_2), np.asarray(training_tgts_3)], \n",
    "          batch_size=32, epochs=20, verbose=1)"
   ]
  },
  {
   "cell_type": "code",
   "execution_count": null,
   "metadata": {},
   "outputs": [],
   "source": [
    "second_round = model.predict(test_images[:-1])"
   ]
  },
  {
   "cell_type": "code",
   "execution_count": null,
   "metadata": {
    "collapsed": true
   },
   "outputs": [],
   "source": [
    "second_array = np.asarray(second_round)\n",
    "second_array = np.moveaxis(second_array, 1,0)\n",
    "flat_second = second_array.reshape((-1, 18))"
   ]
  },
  {
   "cell_type": "code",
   "execution_count": null,
   "metadata": {
    "collapsed": true
   },
   "outputs": [],
   "source": [
    "vonMises = Sequential()\n",
    "vonMises.add(Dense(18, input_dim=18, activation='relu'))\n",
    "vonMises.add(Dropout(.5))\n",
    "vonMises.add(Dense(15, activation='relu'))\n",
    "vonMises.add(Dropout(.5))\n",
    "vonMises.add(Dense(10, activation='relu'))\n",
    "vonMises.add(Dropout(.5))\n",
    "vonMises.add(Dense(5, activation='relu'))\n",
    "vonMises.add(Dropout(.5))\n",
    "vonMises.add(Dense(5, activation='relu'))\n",
    "vonMises.add(Dropout(.5))\n",
    "vonMises.add(Dense(1))"
   ]
  },
  {
   "cell_type": "code",
   "execution_count": null,
   "metadata": {},
   "outputs": [],
   "source": [
    "vonMises.compile(optimizer='adam', loss='mse', metrics=['accuracy'])\n",
    "vonMises.fit(flat_second, \n",
    "             np.asarray(test_tgts),\n",
    "             batch_size=32, epochs=50, verbose=1)"
   ]
  },
  {
   "cell_type": "code",
   "execution_count": null,
   "metadata": {},
   "outputs": [],
   "source": [
    "outputTest = model.predict(test_images[:-1])\n",
    "outputTest = np.asarray(outputTest)\n",
    "outputTest = np.moveaxis(outputTest, 1,0)\n",
    "outputTest = outputTest.reshape((-1,18))\n",
    "print(len(outputTest))\n",
    "print(len(test_tgts))\n",
    "score2 = vonMises.predict(outputTest)\n",
    "\n",
    "\n",
    "\n",
    "print(\"PREDICTIONS 1-10:\", score2[:10].T)\n",
    "print('\\n')\n",
    "print(\"ACTUAL 1-10:\", test_tgts[:10])\n",
    "\n",
    "\n",
    "\n"
   ]
  },
  {
   "cell_type": "code",
   "execution_count": null,
   "metadata": {},
   "outputs": [],
   "source": [
    "import math\n",
    "from matplotlib import pyplot as plt\n",
    "from vonmiseskde import VonMisesKDE\n",
    "\n",
    "discrete_orientations = data.samples[3][1328:]\n",
    "\n",
    "results = np.zeros((len(discrete_orientations),2))\n",
    "\n",
    "# Kernel density estimator\n",
    "kappa = 10\n",
    "print(len(discrete_orientations), len(flat_second), len(test_images[:-1]))\n",
    "for i in range(len(flat_second)):\n",
    "    kde = VonMisesKDE(np.deg2rad(discrete_orientations[i]), weights=np.asarray(flat_second[i]), kappa=kappa)\n",
    "\n",
    "    # Input for test points\n",
    "    test_x = np.linspace(0, 2*math.pi, 720)\n",
    "\n",
    "    # Display posterior estimate\n",
    "    #plt.plot(test_x, kde.evaluate(test_x), zorder=20)\n",
    "    #plt.title('von Mises density for a sample image')\n",
    "    maxi = np.argmax(kde.evaluate(test_x))\n",
    "    #print(\"Radians: {}, Degree: {}, True Deg: {}\".format(test_x[maxi], np.rad2deg(test_x[maxi]), data.samples[1873+i][1]))\n",
    "    results[i,0] = np.rad2deg(test_x[maxi])\n",
    "    results[i,1] = data.samples[1][1327+i]\n",
    "    #plt.xlabel(\"Orientation\")\n",
    "    #plt.xlim(0, 2*math.pi)\n",
    "    #plt.ylim(0, 1)\n",
    "    #plt.show()\n",
    "\n",
    "def circular_loss(y, y_pred):\n",
    "    loss = 180 - np.absolute(np.absolute(y_pred - y) - 180)\n",
    "    return loss\n",
    "\n",
    "print(results)\n",
    "\n",
    "error = circular_loss(results[:,1], results[:,0])\n",
    "\n",
    "plt.hist(error, 30)\n",
    "plt.title(\"Distribution of Error\")\n",
    "plt.xlabel(\"Error Magnitude\")\n",
    "plt.ylabel(\"Frequency\")\n",
    "plt.show()\n",
    "\n",
    "print(\"Mean error: {}\".format(np.mean(error)))\n",
    "print(\"Median error: {}\".format(np.median(error)))\n"
   ]
  },
  {
   "cell_type": "code",
   "execution_count": null,
   "metadata": {
    "collapsed": true
   },
   "outputs": [],
   "source": []
  }
 ],
 "metadata": {
  "anaconda-cloud": {},
  "kernelspec": {
   "display_name": "Python 2",
   "language": "python",
   "name": "python2"
  },
  "language_info": {
   "codemirror_mode": {
    "name": "ipython",
    "version": 2
   },
   "file_extension": ".py",
   "mimetype": "text/x-python",
   "name": "python",
   "nbconvert_exporter": "python",
   "pygments_lexer": "ipython2",
   "version": "2.7.6"
  }
 },
 "nbformat": 4,
 "nbformat_minor": 1
}
