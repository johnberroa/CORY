{
 "cells": [
  {
   "cell_type": "code",
   "execution_count": 1,
   "metadata": {
    "collapsed": true
   },
   "outputs": [],
   "source": [
    "import cv2 as cv\n",
    "import numpy as np\n",
    "import epfl_data2 as epfl_data\n",
    "import matplotlib.pyplot as plt\n",
    "from skimage.feature import hog as HoG\n",
    "from sklearn.preprocessing import normalize\n",
    "from sklearn.utils import shuffle\n",
    "\n",
    "import warnings\n",
    "warnings.filterwarnings(\"ignore\", category=DeprecationWarning)"
   ]
  },
  {
   "cell_type": "code",
   "execution_count": 2,
   "metadata": {
    "collapsed": false
   },
   "outputs": [
    {
     "name": "stdout",
     "output_type": "stream",
     "text": [
      "done\n"
     ]
    }
   ],
   "source": [
    "def flip_angle(angle):\n",
    "    if angle == 180:\n",
    "        return 0\n",
    "    elif angle == 0:\n",
    "        return 180\n",
    "    else:\n",
    "        return 360-angle\n",
    "\n",
    "\n",
    "rotations = 3\n",
    "bins = 6\n",
    "\n",
    "data = epfl_data.Data(rotations,bins)\n",
    "\n",
    "training_images = np.zeros((1327,11016))\n",
    "training_images_f = np.zeros((1327,11016))\n",
    "test_images = np.zeros((972,11016))\n",
    "training_tgts_1 = []\n",
    "training_tgts_2 = []\n",
    "training_tgts_3 = []\n",
    "training_tgts_f1 = []\n",
    "training_tgts_f2 = []\n",
    "training_tgts_f3 = []\n",
    "train_angles = []\n",
    "train_angles_f = []\n",
    "test_tgts = []\n",
    "\n",
    "height = 250\n",
    "width = 376\n",
    "\n",
    "for d in range(len(data.samples[0])*2):\n",
    "    image = cv.imread(data.samples[0][d])\n",
    "    image = image[28:212, 30:348]\n",
    "    image = cv.cvtColor(image, cv.COLOR_BGR2GRAY)\n",
    "    f_image = np.fliplr(image)\n",
    "    if d <= 1326:\n",
    "        image = HoG(image, orientations=8, pixels_per_cell=(16,16))\n",
    "        image = normalize(image)\n",
    "        f_image = HoG(f_image, orientations=8, pixels_per_cell=(16,16))\n",
    "        f_image = normalize(image)\n",
    "        training_images[d] = image\n",
    "        training_tgts_1.append(data.samples[2][d][0])\n",
    "        training_tgts_2.append(data.samples[2][d][1])\n",
    "        training_tgts_3.append(data.samples[2][d][2])\n",
    "        training_images_f[d] = f_image\n",
    "        training_tgts_f1.append(data.samples[2][d][0])\n",
    "        training_tgts_f2.append(data.samples[2][d][1])\n",
    "        training_tgts_f3.append(data.samples[2][d][2])\n",
    "        \n",
    "        train_angles.append(np.deg2rad(data.samples[1][d]))\n",
    "        train_angles_f.append(np.deg2rad(flip_angle(data.samples[1][d])))\n",
    "    else:\n",
    "        if d-1326 == 972:\n",
    "            break\n",
    "        else:\n",
    "            image = HoG(image, orientations=8, pixels_per_cell=(16, 16))\n",
    "            image = normalize(image)\n",
    "            test_images[d-1326] = image\n",
    "            test_tgts.append(np.deg2rad(data.samples[1][d]))\n",
    "\n",
    "train = np.append(training_images, training_images_f,axis=0)\n",
    "for i in range(len(training_tgts_1)):\n",
    "    training_tgts_1.append(training_tgts_f1[i])\n",
    "    training_tgts_2.append(training_tgts_f2[i])\n",
    "    training_tgts_3.append(training_tgts_f3[i])\n",
    "for i in range(len(train_angles)):\n",
    "    train_angles.append(train_angles_f[i])\n",
    "print('done')"
   ]
  },
  {
   "cell_type": "code",
   "execution_count": 3,
   "metadata": {
    "collapsed": false
   },
   "outputs": [
    {
     "name": "stderr",
     "output_type": "stream",
     "text": [
      "Using TensorFlow backend.\n"
     ]
    }
   ],
   "source": [
    "import keras\n",
    "from keras.models import Sequential\n",
    "from keras.layers import Dense, Dropout, Flatten, Input\n",
    "from keras.layers.convolutional import Conv1D\n",
    "from keras.models import Model\n",
    "from keras.losses import categorical_crossentropy as cross"
   ]
  },
  {
   "cell_type": "code",
   "execution_count": 4,
   "metadata": {
    "collapsed": true
   },
   "outputs": [],
   "source": [
    "hog_input = Input(shape=(11016,), name='input')\n",
    "layers = Dense(1000, input_dim=11016, activation='relu')(hog_input)\n",
    "layers = Dropout(.5)(layers)\n",
    "layers = Dense(100, activation='relu')(layers)\n",
    "layers = Dropout(.5)(layers)\n",
    "layers = Dense(10, activation='relu')(layers)\n",
    "layers = Dropout(.5)(layers)\n",
    "outputs = []\n",
    "for r in range(rotations):\n",
    "    outputs.append(Dense(bins, activation='softmax', name='output{}'.format(r))(layers))"
   ]
  },
  {
   "cell_type": "code",
   "execution_count": 5,
   "metadata": {
    "collapsed": false
   },
   "outputs": [
    {
     "name": "stdout",
     "output_type": "stream",
     "text": [
      "Epoch 1/20\n",
      "2654/2654 [==============================] - 48s - loss: 5.2961 - output0_loss: 1.7469 - output1_loss: 1.7717 - output2_loss: 1.7775 - output0_acc: 0.2306 - output1_acc: 0.2099 - output2_acc: 0.1873    \n",
      "Epoch 2/20\n",
      "2654/2654 [==============================] - 35s - loss: 4.8778 - output0_loss: 1.5770 - output1_loss: 1.6335 - output2_loss: 1.6673 - output0_acc: 0.3433 - output1_acc: 0.3026 - output2_acc: 0.2735    \n",
      "Epoch 3/20\n",
      "2654/2654 [==============================] - 36s - loss: 4.2049 - output0_loss: 1.3616 - output1_loss: 1.3826 - output2_loss: 1.4607 - output0_acc: 0.4435 - output1_acc: 0.4439 - output2_acc: 0.3775    \n",
      "Epoch 4/20\n",
      "2654/2654 [==============================] - 34s - loss: 3.6402 - output0_loss: 1.2208 - output1_loss: 1.1652 - output2_loss: 1.2543 - output0_acc: 0.5075 - output1_acc: 0.5215 - output2_acc: 0.4872    \n",
      "Epoch 5/20\n",
      "2654/2654 [==============================] - 35s - loss: 3.2013 - output0_loss: 1.0813 - output1_loss: 1.0357 - output2_loss: 1.0843 - output0_acc: 0.5656 - output1_acc: 0.5780 - output2_acc: 0.5625    \n",
      "Epoch 6/20\n",
      "2654/2654 [==============================] - 36s - loss: 2.8829 - output0_loss: 0.9452 - output1_loss: 0.9578 - output2_loss: 0.9799 - output0_acc: 0.6307 - output1_acc: 0.5995 - output2_acc: 0.6104    \n",
      "Epoch 7/20\n",
      "2654/2654 [==============================] - 36s - loss: 2.6812 - output0_loss: 0.8688 - output1_loss: 0.8829 - output2_loss: 0.9295 - output0_acc: 0.6586 - output1_acc: 0.6356 - output2_acc: 0.6255    \n",
      "Epoch 8/20\n",
      "2654/2654 [==============================] - 33s - loss: 2.5936 - output0_loss: 0.8328 - output1_loss: 0.8853 - output2_loss: 0.8755 - output0_acc: 0.6522 - output1_acc: 0.6307 - output2_acc: 0.6439    \n",
      "Epoch 9/20\n",
      "2654/2654 [==============================] - 34s - loss: 2.4643 - output0_loss: 0.7780 - output1_loss: 0.8243 - output2_loss: 0.8620 - output0_acc: 0.6884 - output1_acc: 0.6609 - output2_acc: 0.6439    \n",
      "Epoch 10/20\n",
      "2654/2654 [==============================] - 34s - loss: 2.3578 - output0_loss: 0.7889 - output1_loss: 0.7906 - output2_loss: 0.7782 - output0_acc: 0.6658 - output1_acc: 0.6722 - output2_acc: 0.6748    \n",
      "Epoch 11/20\n",
      "2654/2654 [==============================] - 33s - loss: 2.2663 - output0_loss: 0.7424 - output1_loss: 0.7438 - output2_loss: 0.7801 - output0_acc: 0.6933 - output1_acc: 0.7061 - output2_acc: 0.6797    \n",
      "Epoch 12/20\n",
      "2654/2654 [==============================] - 35s - loss: 2.2305 - output0_loss: 0.7339 - output1_loss: 0.7416 - output2_loss: 0.7550 - output0_acc: 0.6869 - output1_acc: 0.7008 - output2_acc: 0.6786    \n",
      "Epoch 13/20\n",
      "2654/2654 [==============================] - 35s - loss: 2.2407 - output0_loss: 0.7271 - output1_loss: 0.7502 - output2_loss: 0.7634 - output0_acc: 0.6831 - output1_acc: 0.6986 - output2_acc: 0.6733    \n",
      "Epoch 14/20\n",
      "2654/2654 [==============================] - 36s - loss: 2.1893 - output0_loss: 0.7107 - output1_loss: 0.7255 - output2_loss: 0.7530 - output0_acc: 0.6891 - output1_acc: 0.7125 - output2_acc: 0.6703    \n",
      "Epoch 15/20\n",
      "2654/2654 [==============================] - 36s - loss: 2.0949 - output0_loss: 0.6895 - output1_loss: 0.6913 - output2_loss: 0.7141 - output0_acc: 0.6873 - output1_acc: 0.7170 - output2_acc: 0.6974    \n",
      "Epoch 16/20\n",
      "2654/2654 [==============================] - 36s - loss: 2.0181 - output0_loss: 0.6617 - output1_loss: 0.6740 - output2_loss: 0.6824 - output0_acc: 0.7084 - output1_acc: 0.7219 - output2_acc: 0.7133    \n",
      "Epoch 17/20\n",
      "2654/2654 [==============================] - 34s - loss: 2.1065 - output0_loss: 0.6832 - output1_loss: 0.6959 - output2_loss: 0.7275 - output0_acc: 0.6925 - output1_acc: 0.7050 - output2_acc: 0.6880    \n",
      "Epoch 18/20\n",
      "2654/2654 [==============================] - 34s - loss: 2.0323 - output0_loss: 0.6712 - output1_loss: 0.6773 - output2_loss: 0.6838 - output0_acc: 0.7114 - output1_acc: 0.7295 - output2_acc: 0.7216    \n",
      "Epoch 19/20\n",
      "2654/2654 [==============================] - 34s - loss: 1.9662 - output0_loss: 0.6401 - output1_loss: 0.6660 - output2_loss: 0.6602 - output0_acc: 0.7136 - output1_acc: 0.7204 - output2_acc: 0.7212    \n",
      "Epoch 20/20\n",
      "2654/2654 [==============================] - 35s - loss: 1.9853 - output0_loss: 0.6458 - output1_loss: 0.6676 - output2_loss: 0.6719 - output0_acc: 0.7197 - output1_acc: 0.7102 - output2_acc: 0.7121    \n"
     ]
    },
    {
     "data": {
      "text/plain": [
       "<keras.callbacks.History at 0x15c747c6e10>"
      ]
     },
     "execution_count": 5,
     "metadata": {},
     "output_type": "execute_result"
    }
   ],
   "source": [
    "model = Model(inputs=hog_input, outputs=outputs)\n",
    "model.compile(optimizer='adam', loss=cross, metrics=['accuracy'])\n",
    "model.fit(train, \n",
    "          [np.asarray(training_tgts_1), np.asarray(training_tgts_2), np.asarray(training_tgts_3)], \n",
    "          batch_size=32, epochs=20, verbose=1)"
   ]
  },
  {
   "cell_type": "code",
   "execution_count": 6,
   "metadata": {
    "collapsed": false
   },
   "outputs": [],
   "source": [
    "second_round = model.predict(train)"
   ]
  },
  {
   "cell_type": "code",
   "execution_count": 7,
   "metadata": {
    "collapsed": false
   },
   "outputs": [],
   "source": [
    "second_array = np.asarray(second_round)\n",
    "second_array = np.moveaxis(second_array, 1,0)\n",
    "flat_second = second_array.reshape((-1, 18))"
   ]
  },
  {
   "cell_type": "code",
   "execution_count": 13,
   "metadata": {
    "collapsed": true
   },
   "outputs": [],
   "source": [
    "vonMises = Sequential()\n",
    "vonMises.add(Dense(18, input_dim=18, activation='relu'))\n",
    "vonMises.add(Dropout(.5))\n",
    "vonMises.add(Dense(15, activation='relu'))\n",
    "vonMises.add(Dropout(.5))\n",
    "vonMises.add(Dense(10, activation='relu'))\n",
    "vonMises.add(Dropout(.5))\n",
    "vonMises.add(Dense(5, activation='relu'))\n",
    "vonMises.add(Dropout(.5))\n",
    "vonMises.add(Dense(5, activation='relu'))\n",
    "vonMises.add(Dropout(.5))\n",
    "vonMises.add(Dense(1))"
   ]
  },
  {
   "cell_type": "code",
   "execution_count": 26,
   "metadata": {
    "collapsed": false
   },
   "outputs": [
    {
     "name": "stdout",
     "output_type": "stream",
     "text": [
      "Epoch 1/50\n",
      "2654/2654 [==============================] - 1s - loss: 3.4605 - acc: 0.0000e+00     \n",
      "Epoch 2/50\n",
      "2654/2654 [==============================] - 0s - loss: 3.4500 - acc: 0.0000e+00     \n",
      "Epoch 3/50\n",
      "2654/2654 [==============================] - 0s - loss: 3.4402 - acc: 0.0000e+00     \n",
      "Epoch 4/50\n",
      "2654/2654 [==============================] - 0s - loss: 3.4238 - acc: 0.0000e+00     \n",
      "Epoch 5/50\n",
      "2654/2654 [==============================] - 0s - loss: 3.3958 - acc: 0.0000e+00     \n",
      "Epoch 6/50\n",
      "2654/2654 [==============================] - 0s - loss: 3.3925 - acc: 0.0000e+00     \n",
      "Epoch 7/50\n",
      "2654/2654 [==============================] - 0s - loss: 3.3561 - acc: 0.0000e+00     \n",
      "Epoch 8/50\n",
      "2654/2654 [==============================] - 0s - loss: 3.4248 - acc: 0.0000e+00     \n",
      "Epoch 9/50\n",
      "2654/2654 [==============================] - 0s - loss: 3.3519 - acc: 0.0000e+00     \n",
      "Epoch 10/50\n",
      "2654/2654 [==============================] - 0s - loss: 3.3400 - acc: 0.0000e+00     \n",
      "Epoch 11/50\n",
      "2654/2654 [==============================] - 0s - loss: 3.3340 - acc: 0.0000e+00     \n",
      "Epoch 12/50\n",
      "2654/2654 [==============================] - 0s - loss: 3.3479 - acc: 0.0000e+00     \n",
      "Epoch 13/50\n",
      "2654/2654 [==============================] - 0s - loss: 3.3220 - acc: 0.0000e+00     \n",
      "Epoch 14/50\n",
      "2654/2654 [==============================] - 0s - loss: 3.3434 - acc: 0.0000e+00     \n",
      "Epoch 15/50\n",
      "2654/2654 [==============================] - 0s - loss: 3.3523 - acc: 0.0000e+00     \n",
      "Epoch 16/50\n",
      "2654/2654 [==============================] - 0s - loss: 3.3449 - acc: 0.0000e+00     \n",
      "Epoch 17/50\n",
      "2654/2654 [==============================] - 0s - loss: 3.3322 - acc: 0.0000e+00     \n",
      "Epoch 18/50\n",
      "2654/2654 [==============================] - 0s - loss: 3.3457 - acc: 0.0000e+00     \n",
      "Epoch 19/50\n",
      "2654/2654 [==============================] - 0s - loss: 3.3314 - acc: 0.0000e+00     \n",
      "Epoch 20/50\n",
      "2654/2654 [==============================] - 0s - loss: 3.3254 - acc: 0.0000e+00     \n",
      "Epoch 21/50\n",
      "2654/2654 [==============================] - 0s - loss: 3.3331 - acc: 0.0000e+00     \n",
      "Epoch 22/50\n",
      "2654/2654 [==============================] - 0s - loss: 3.3283 - acc: 0.0000e+00     \n",
      "Epoch 23/50\n",
      "2654/2654 [==============================] - 0s - loss: 3.3255 - acc: 0.0000e+00     \n",
      "Epoch 24/50\n",
      "2654/2654 [==============================] - 0s - loss: 3.3260 - acc: 0.0000e+00     \n",
      "Epoch 25/50\n",
      "2654/2654 [==============================] - 0s - loss: 3.3284 - acc: 0.0000e+00     \n",
      "Epoch 26/50\n",
      "2654/2654 [==============================] - 0s - loss: 3.3177 - acc: 0.0000e+00     \n",
      "Epoch 27/50\n",
      "2654/2654 [==============================] - 0s - loss: 3.3185 - acc: 0.0000e+00     \n",
      "Epoch 28/50\n",
      "2654/2654 [==============================] - 0s - loss: 3.3209 - acc: 0.0000e+00     \n",
      "Epoch 29/50\n",
      "2654/2654 [==============================] - 0s - loss: 3.3140 - acc: 0.0000e+00     \n",
      "Epoch 30/50\n",
      "2654/2654 [==============================] - 0s - loss: 3.3090 - acc: 0.0000e+00     \n",
      "Epoch 31/50\n",
      "2654/2654 [==============================] - 0s - loss: 3.3110 - acc: 0.0000e+00     \n",
      "Epoch 32/50\n",
      "2654/2654 [==============================] - 0s - loss: 3.3177 - acc: 0.0000e+00     \n",
      "Epoch 33/50\n",
      "2654/2654 [==============================] - 0s - loss: 3.3178 - acc: 0.0000e+00     \n",
      "Epoch 34/50\n",
      "2654/2654 [==============================] - 0s - loss: 3.3149 - acc: 0.0000e+00     \n",
      "Epoch 35/50\n",
      "2654/2654 [==============================] - 0s - loss: 3.3190 - acc: 0.0000e+00     \n",
      "Epoch 36/50\n",
      "2654/2654 [==============================] - 0s - loss: 3.3174 - acc: 0.0000e+00     \n",
      "Epoch 37/50\n",
      "2654/2654 [==============================] - 0s - loss: 3.3067 - acc: 0.0000e+00     \n",
      "Epoch 38/50\n",
      "2654/2654 [==============================] - 0s - loss: 3.3210 - acc: 0.0000e+00     \n",
      "Epoch 39/50\n",
      "2654/2654 [==============================] - 0s - loss: 3.3138 - acc: 0.0000e+00     \n",
      "Epoch 40/50\n",
      "2654/2654 [==============================] - 0s - loss: 3.3071 - acc: 0.0000e+00     \n",
      "Epoch 41/50\n",
      "2654/2654 [==============================] - 0s - loss: 3.3109 - acc: 0.0000e+00     \n",
      "Epoch 42/50\n",
      "2654/2654 [==============================] - 0s - loss: 3.3173 - acc: 0.0000e+00     \n",
      "Epoch 43/50\n",
      "2654/2654 [==============================] - 0s - loss: 3.3131 - acc: 0.0000e+00     \n",
      "Epoch 44/50\n",
      "2654/2654 [==============================] - 0s - loss: 3.3132 - acc: 0.0000e+00     \n",
      "Epoch 45/50\n",
      "2654/2654 [==============================] - 0s - loss: 3.3123 - acc: 0.0000e+00     \n",
      "Epoch 46/50\n",
      "2654/2654 [==============================] - 0s - loss: 3.3126 - acc: 0.0000e+00     \n",
      "Epoch 47/50\n",
      "2654/2654 [==============================] - 0s - loss: 3.3105 - acc: 0.0000e+00     \n",
      "Epoch 48/50\n",
      "2654/2654 [==============================] - 0s - loss: 3.3127 - acc: 0.0000e+00     \n",
      "Epoch 49/50\n",
      "2654/2654 [==============================] - 0s - loss: 3.3123 - acc: 0.0000e+00     \n",
      "Epoch 50/50\n",
      "2654/2654 [==============================] - 0s - loss: 3.3084 - acc: 0.0000e+00     \n"
     ]
    },
    {
     "data": {
      "text/plain": [
       "<keras.callbacks.History at 0x15c08864208>"
      ]
     },
     "execution_count": 26,
     "metadata": {},
     "output_type": "execute_result"
    }
   ],
   "source": [
    "vonMises.compile(optimizer='adam', loss='mse', metrics=['accuracy'])\n",
    "vonMises.fit(flat_second, \n",
    "             np.asarray(train_angles),\n",
    "             batch_size=32, epochs=50, verbose=1)"
   ]
  },
  {
   "cell_type": "code",
   "execution_count": 27,
   "metadata": {
    "collapsed": false
   },
   "outputs": [
    {
     "name": "stdout",
     "output_type": "stream",
     "text": [
      "971\n",
      "971\n",
      "PREDICTIONS 1-10: [[ 3.11704159  3.11704159  3.11704159  3.11704159  3.11704159  3.11704159\n",
      "   3.11704159  3.11704159  3.11704159  3.11704159]]\n",
      "\n",
      "\n",
      "ACTUAL 1-10: [0.68815839078633589, 0.62831853071795862, 0.5684786706495818, 0.50863881058120453, 0.44879895051282775, 0.38895909044445093, 0.32911923037607366, 0.32911923037607366, 0.20943951023931956, 0.14959965017094273]\n"
     ]
    }
   ],
   "source": [
    "outputTest = model.predict(test_images[:-1])\n",
    "outputTest = np.asarray(outputTest)\n",
    "outputTest = np.moveaxis(outputTest, 1,0)\n",
    "outputTest = outputTest.reshape((-1,18))\n",
    "print(len(outputTest))\n",
    "print(len(test_tgts))\n",
    "score2 = vonMises.predict(outputTest)\n",
    "\n",
    "\n",
    "\n",
    "print(\"PREDICTIONS 1-10:\", score2[:10].T)\n",
    "print('\\n')\n",
    "print(\"ACTUAL 1-10:\", test_tgts[:10])"
   ]
  },
  {
   "cell_type": "code",
   "execution_count": null,
   "metadata": {
    "collapsed": true
   },
   "outputs": [],
   "source": []
  },
  {
   "cell_type": "code",
   "execution_count": null,
   "metadata": {
    "collapsed": true
   },
   "outputs": [],
   "source": []
  }
 ],
 "metadata": {
  "anaconda-cloud": {},
  "kernelspec": {
   "display_name": "Python [conda root]",
   "language": "python",
   "name": "conda-root-py"
  },
  "language_info": {
   "codemirror_mode": {
    "name": "ipython",
    "version": 3
   },
   "file_extension": ".py",
   "mimetype": "text/x-python",
   "name": "python",
   "nbconvert_exporter": "python",
   "pygments_lexer": "ipython3",
   "version": "3.5.2"
  }
 },
 "nbformat": 4,
 "nbformat_minor": 1
}
