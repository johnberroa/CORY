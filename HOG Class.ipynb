{
 "cells": [
  {
   "cell_type": "code",
   "execution_count": null,
   "metadata": {
    "collapsed": true
   },
   "outputs": [],
   "source": [
    "import cv2 as cv\n",
    "import numpy as np\n",
    "import epfl_data2 as epfl_data\n",
    "import matplotlib.pyplot as plt\n",
    "from skimage.feature import hog as HoG\n",
    "from sklearn.preprocessing import normalize\n",
    "from sklearn.utils import shuffle\n",
    "\n",
    "\n",
    "# import training_checkpoints as note\n",
    "\n",
    "import warnings\n",
    "warnings.filterwarnings(\"ignore\", category=DeprecationWarning)"
   ]
  },
  {
   "cell_type": "code",
   "execution_count": null,
   "metadata": {},
   "outputs": [],
   "source": [
    "def flip_angle(angle):\n",
    "    if angle == 180:\n",
    "        return 0\n",
    "    elif angle == 0:\n",
    "        return 180\n",
    "    else:\n",
    "        return 360-angle\n",
    "\n",
    "# note.depends_loaded()\n",
    "\n",
    "rotations = 3\n",
    "bins = 6\n",
    "\n",
    "data = epfl_data.Data(rotations,bins)\n",
    "\n",
    "# print(data.samples[0])\n",
    "# print(data.samples[1])\n",
    "print(data.samples[2][0])\n",
    "# print(data.samples[3])\n",
    "\n",
    "training_images = np.zeros((1327,11016))\n",
    "training_images_f = np.zeros((1327,11016))\n",
    "test_images = np.zeros((972,11016))\n",
    "training_tgts_1 = []\n",
    "training_tgts_2 = []\n",
    "training_tgts_3 = []\n",
    "training_tgts_f1 = []\n",
    "training_tgts_f2 = []\n",
    "training_tgts_f3 = []\n",
    "train_angles = []\n",
    "train_angles_f = []\n",
    "test_tgts = []\n",
    "\n",
    "height = 250\n",
    "width = 376\n",
    "\n",
    "for d in range(len(data.samples[0])*2):\n",
    "    image = cv.imread(data.samples[0][d])\n",
    "    image = image[28:212, 30:348]\n",
    "    image = cv.cvtColor(image, cv.COLOR_BGR2GRAY)\n",
    "    f_image = np.fliplr(image)\n",
    "    if d <= 1326:\n",
    "        image = HoG(image, orientations=8, pixels_per_cell=(16,16))\n",
    "        image = normalize(image)\n",
    "        f_image = HoG(f_image, orientations=8, pixels_per_cell=(16,16))\n",
    "        f_image = normalize(image)\n",
    "        training_images[d] = image\n",
    "        training_tgts_1.append(data.samples[2][d][0])\n",
    "        training_tgts_2.append(data.samples[2][d][1])\n",
    "        training_tgts_3.append(data.samples[2][d][2])\n",
    "        training_images_f[d] = f_image\n",
    "        training_tgts_f1.append(data.samples[2][d][0])\n",
    "        training_tgts_f2.append(data.samples[2][d][1])\n",
    "        training_tgts_f3.append(data.samples[2][d][2])\n",
    "        \n",
    "        train_angles.append(np.deg2rad(data.samples[1][d]))\n",
    "        train_angles_f.append(np.deg2rad(flip_angle(data.samples[1][d])))\n",
    "    else:\n",
    "        if d-1326 == 972:\n",
    "            break\n",
    "        else:\n",
    "            image = HoG(image, orientations=8, pixels_per_cell=(16, 16))\n",
    "            image = normalize(image)\n",
    "            test_images[d-1326] = image\n",
    "            test_tgts.append(np.deg2rad(data.samples[1][d]))\n",
    "\n",
    "print(training_images.shape)\n",
    "train = np.append(training_images, training_images_f,axis=0)\n",
    "print(train.shape)\n",
    "# shuffled_training = shuffle(train)\n",
    "for i in range(len(training_tgts_1)):\n",
    "    training_tgts_1.append(training_tgts_f1[i])\n",
    "    training_tgts_2.append(training_tgts_f2[i])\n",
    "    training_tgts_3.append(training_tgts_f3[i])\n",
    "# training_tgts.append(training_tgts_f)\n",
    "for i in range(len(train_angles)):\n",
    "    train_angles.append(train_angles_f[i])\n",
    "print('done')"
   ]
  },
  {
   "cell_type": "code",
   "execution_count": null,
   "metadata": {},
   "outputs": [],
   "source": [
    "print(data.samples[2][0])\n",
    "print(data.samples[2][0][0])\n",
    "p=np.zeros((2,2))\n",
    "pp=np.ones((2,2))\n",
    "print(np.append(p,pp,axis=0))"
   ]
  },
  {
   "cell_type": "code",
   "execution_count": null,
   "metadata": {},
   "outputs": [],
   "source": [
    "import keras\n",
    "from keras.models import Sequential\n",
    "from keras.layers import Dense, Dropout, Flatten, Input\n",
    "from keras.layers.convolutional import Conv1D\n",
    "from keras.models import Model\n",
    "from keras.losses import categorical_crossentropy as cross"
   ]
  },
  {
   "cell_type": "code",
   "execution_count": null,
   "metadata": {
    "collapsed": true
   },
   "outputs": [],
   "source": [
    "rotations = 3"
   ]
  },
  {
   "cell_type": "code",
   "execution_count": null,
   "metadata": {
    "collapsed": true
   },
   "outputs": [],
   "source": [
    "hog_input = Input(shape=(11016,), name='input')\n",
    "layers = Dense(1000, input_dim=11016, activation='relu')(hog_input)\n",
    "layers = Dropout(.5)(layers)\n",
    "layers = Dense(100, activation='relu')(layers)\n",
    "layers = Dropout(.5)(layers)\n",
    "layers = Dense(10, activation='relu')(layers)\n",
    "layers = Dropout(.5)(layers)\n",
    "outputs = []\n",
    "for r in range(rotations):\n",
    "    outputs.append(Dense(bins, activation='softmax', name='output{}'.format(r))(layers))\n",
    "\n"
   ]
  },
  {
   "cell_type": "code",
   "execution_count": null,
   "metadata": {},
   "outputs": [],
   "source": [
    "print(outputs)"
   ]
  },
  {
   "cell_type": "code",
   "execution_count": null,
   "metadata": {},
   "outputs": [],
   "source": [
    "model = Model(inputs=hog_input, outputs=outputs)\n",
    "model.compile(optimizer='adam', loss=cross, metrics=['accuracy'])\n",
    "model.fit(train, \n",
    "          [np.asarray(training_tgts_1), np.asarray(training_tgts_2), np.asarray(training_tgts_3)], \n",
    "          batch_size=32, epochs=10, verbose=1)"
   ]
  },
  {
   "cell_type": "code",
   "execution_count": null,
   "metadata": {},
   "outputs": [],
   "source": [
    "second_round = model.predict(train)\n",
    "print(second_round)"
   ]
  },
  {
   "cell_type": "code",
   "execution_count": null,
   "metadata": {},
   "outputs": [],
   "source": [
    "tester = 555\n",
    "print(second_round[0][tester])\n",
    "print(second_round[1][tester])\n",
    "print(\"\")\n",
    "print(training_tgts_1[tester])\n",
    "print(training_tgts_2[tester])\n",
    "print(len(second_round[0]))\n",
    "print(len(second_round[0][3]))\n",
    "\n",
    "print(training_tgts_1)"
   ]
  },
  {
   "cell_type": "code",
   "execution_count": null,
   "metadata": {},
   "outputs": [],
   "source": [
    "second_array = np.asarray(second_round)\n",
    "print(second_array.shape)\n",
    "second_array = np.moveaxis(second_array, 1,0)\n",
    "print(second_array.shape)\n",
    "print(len(second_array))\n",
    "print(len(second_array[1]))\n",
    "print(len(second_array[:][0]))\n",
    "print(second_array[1][0])\n",
    "print(second_array[2][0])\n",
    "print(second_array[0][1])\n",
    "print(second_array[0][0])\n",
    "flat_second = second_array.reshape((-1, 18))\n",
    "print(\"now: {}\".format(flat_second.shape))\n",
    "# print(flat_second.shape)\n",
    "# # print(flat_second)\n",
    "# print('new')\n",
    "# print(flat_second[0])\n",
    "# print('new')\n",
    "# print(flat_second[1])\n",
    "# print('new')\n",
    "# print(flat_second[2])\n",
    "# print('new')\n",
    "# print(flat_second[3])\n",
    "# print('new')\n",
    "# print(flat_second[4])\n",
    "\n",
    "# probabilities=[]\n",
    "# new_input = []\n",
    "# for outs in range(len(second_array.shape[1])):\n",
    "#     for i in range(rotations):\n",
    "#         probabilities.append(list(second_round[i][outs]))\n",
    "#     new_input.append([item for sublist in probabilities for item in sublist])\n",
    "# print(new_input)\n",
    "\n",
    "# test = np.asarray(([[1,1,1],[2,3,4,5],[6,6,6,6,6]]))\n",
    "# print(test)"
   ]
  },
  {
   "cell_type": "code",
   "execution_count": null,
   "metadata": {},
   "outputs": [],
   "source": [
    "# print(second_array[:][0][0])\n",
    "print(flat_second.shape)\n",
    "print(flat_second[0])"
   ]
  },
  {
   "cell_type": "code",
   "execution_count": null,
   "metadata": {
    "collapsed": true
   },
   "outputs": [],
   "source": [
    "rot_input = Input(shape=(1,6,), dtype='float32', name='1_input')\n",
    "rot_input2 = Input(shape=(1,6,), dtype='float32', name='2_input')\n",
    "rot_input3 = Input(shape=(1,6,), dtype='float32', name='3_input')\n",
    "\n",
    "layer = keras.layers.concatenate([rot_input, rot_input2, rot_input3])\n",
    "layer = Dense(200, activation='relu')(layer)\n",
    "layer = Dropout(.5)(layer)\n",
    "layer = Dense(100, activation='relu')(layer)\n",
    "layer = Dropout(.5)(layer)\n",
    "layer = Dense(10, activation='relu')(layer)\n",
    "layer = Dropout(.5)(layer)\n",
    "output = Dense(1)(layer)"
   ]
  },
  {
   "cell_type": "code",
   "execution_count": null,
   "metadata": {
    "collapsed": true
   },
   "outputs": [],
   "source": [
    "import tensorflow as tf\n",
    "from tensorflow.contrib.layers import flatten"
   ]
  },
  {
   "cell_type": "code",
   "execution_count": null,
   "metadata": {},
   "outputs": [],
   "source": [
    "rot1 = tf.placeholder(tf.float32, [None, rotations,bins])\n",
    "rot2 = tf.placeholder(tf.float32, [None, rotations,bins])\n",
    "rot3 = tf.placeholder(tf.float32, [None, rotations,bins])\n",
    "labelz = tf.placeholder(tf.float32, [None])\n",
    "flatten1 = flatten(rot1)\n",
    "flatten2 = flatten(rot2)\n",
    "flatten3 = flatten(rot3)\n",
    "W1 = tf.Variable(tf.zeros([2654, 100]))\n",
    "B1 = tf.Variable(tf.zeros([100]))\n",
    "Act1 = tf.nn.relu(tf.multiply(tf.concat(rot1,rot2,rot3),W1)+B1)\n",
    "mse = tf.metics.mean_squared_error(labels=labelz, predictions = Act1)\n",
    "optimizer = tf.trian.AdamOptimizer(.0001).minimize(mse)\n",
    "init = tf.global_variables_initializer()\n",
    "\n",
    "with tf.Session() as sess:\n",
    "    sess.run(init)\n",
    "    for i in range(20):\n",
    "        sess.run(optimizer, feed_dict={rot1:second_array[0][0], rot2:second_array[0][1], rot3:second_array[0][2]})\n"
   ]
  },
  {
   "cell_type": "code",
   "execution_count": null,
   "metadata": {},
   "outputs": [],
   "source": [
    "model_two = Model(inputs=[rot_input, rot_input2, rot_input3], outputs=output)\n",
    "model.compile(optimizer='adam', loss='mse', metrics=['accuracy'])\n",
    "model.fit([second_array[0][:],second_array[1][:],second_array[2][:]], \n",
    "          train_angles, \n",
    "          batch_size=32, epochs=10, verbose=1)\n",
    "#shuffle the array?"
   ]
  },
  {
   "cell_type": "code",
   "execution_count": null,
   "metadata": {
    "collapsed": true
   },
   "outputs": [],
   "source": [
    "score = model_two.evaluate(test_images[:-1], np.asarray(test_tgts), verbose=1)\n",
    "print(\"\\nSCORE:\", score)\n",
    "# note.all_complete()\n",
    "\n",
    "model.summary()\n",
    "\n",
    "predictions = model.predict(test_images[:-1])\n",
    "\n",
    "print(\"PREDICTIONS:\", predictions.T)\n",
    "print(\"ACTUAL:\", test_tgts)"
   ]
  },
  {
   "cell_type": "code",
   "execution_count": null,
   "metadata": {
    "collapsed": true
   },
   "outputs": [],
   "source": [
    "# model_two = Sequential()\n",
    "# model_two.add(Dense(200), input_dim=rotations*bins, activation='relu')\n",
    "# model_two.add(Dropout(.5))\n",
    "# model_two.add(Dense(100), activation='relu')\n",
    "# model_two.add(Dropout(.5))\n",
    "# model_two.add(Dense(10), activation='relu')\n",
    "# model_two.add(Dropout(.5))\n",
    "# model_two.add(Dense(1), activation='sigmoid')"
   ]
  },
  {
   "cell_type": "code",
   "execution_count": null,
   "metadata": {
    "collapsed": true
   },
   "outputs": [],
   "source": [
    "model_two.fit(second, np.asarray(training_tgts), batch_size=32, epochs=20, verbose=1)\n",
    "\n",
    "score = model.evaluate(test_images[:-1], np.asarray(test_tgts), verbose=1)\n",
    "print(\"\\nSCORE:\", score)\n",
    "# note.all_complete()\n",
    "\n",
    "model.summary()\n",
    "\n",
    "predictions = model.predict(test_images[:-1])\n",
    "\n",
    "print(\"PREDICTIONS:\", predictions.T)\n",
    "print(\"ACTUAL:\", test_tgts)"
   ]
  }
 ],
 "metadata": {
  "anaconda-cloud": {},
  "kernelspec": {
   "display_name": "Python 2",
   "language": "python",
   "name": "python2"
  },
  "language_info": {
   "codemirror_mode": {
    "name": "ipython",
    "version": 2
   },
   "file_extension": ".py",
   "mimetype": "text/x-python",
   "name": "python",
   "nbconvert_exporter": "python",
   "pygments_lexer": "ipython2",
   "version": "2.7.6"
  }
 },
 "nbformat": 4,
 "nbformat_minor": 1
}
