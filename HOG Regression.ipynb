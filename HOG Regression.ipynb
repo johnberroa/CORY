{
 "cells": [
  {
   "cell_type": "code",
   "execution_count": null,
   "metadata": {},
   "outputs": [],
   "source": [
    "import cv2 as cv\n",
    "import numpy as np\n",
    "import epfl_data2 as epfl_data\n",
    "import matplotlib.pyplot as plt\n",
    "from skimage.feature import hog as HoG\n",
    "from sklearn.preprocessing import normalize\n",
    "from sklearn.utils import shuffle\n",
    "\n",
    "import warnings\n",
    "warnings.filterwarnings(\"ignore\", category=DeprecationWarning)"
   ]
  },
  {
   "cell_type": "code",
   "execution_count": null,
   "metadata": {},
   "outputs": [],
   "source": [
    "def flip_angle(angle):\n",
    "    if angle == 180:\n",
    "        return 0\n",
    "    elif angle == 0:\n",
    "        return 180\n",
    "    else:\n",
    "        return 360-angle\n",
    "\n",
    "\n",
    "data = epfl_data.Data(1,6)\n",
    "\n",
    "training_images = np.zeros((1327,11016))\n",
    "training_images_f = np.zeros((1327,11016))\n",
    "test_images = np.zeros((972,11016))\n",
    "training_tgts = []\n",
    "training_tgts_f = []\n",
    "test_tgts = []\n",
    "\n",
    "height = 250\n",
    "width = 376\n",
    "\n",
    "for d in range(len(data.samples[0])*2):\n",
    "    image = cv.imread(data.samples[0][d])\n",
    "    image = image[28:212, 30:348]\n",
    "    image = cv.cvtColor(image, cv.COLOR_BGR2GRAY)\n",
    "    f_image = np.fliplr(image)\n",
    "    if d <= 1326:\n",
    "        image = HoG(image, orientations=8, pixels_per_cell=(16,16))\n",
    "        image = normalize(image)\n",
    "        f_image = HoG(f_image, orientations=8, pixels_per_cell=(16,16))\n",
    "        f_image = normalize(image)\n",
    "        training_images[d] = image\n",
    "        training_tgts.append(np.deg2rad(data.samples[1][d]))\n",
    "        training_images_f[d] = f_image\n",
    "        training_tgts_f.append(np.deg2rad(flip_angle(data.samples[1][d])))\n",
    "    else:\n",
    "        if d-1326 == 972:\n",
    "            break\n",
    "        else:\n",
    "            image = HoG(image, orientations=8, pixels_per_cell=(16, 16))\n",
    "            image = normalize(image)\n",
    "            test_images[d-1326] = image\n",
    "            test_tgts.append(np.deg2rad(data.samples[1][d]))\n",
    "\n",
    "\n",
    "train = np.append(training_images, training_images_f,axis=0)\n",
    "for i in range(len(training_tgts)):\n",
    "    training_tgts.append(training_tgts_f[i])"
   ]
  },
  {
   "cell_type": "code",
   "execution_count": null,
   "metadata": {},
   "outputs": [],
   "source": [
    "import keras\n",
    "from keras.models import Sequential\n",
    "from keras.layers import Dense, Dropout, Flatten\n",
    "from keras.layers.convolutional import Conv1D"
   ]
  },
  {
   "cell_type": "code",
   "execution_count": null,
   "metadata": {},
   "outputs": [],
   "source": [
    "model = Sequential()\n",
    "model.add(Dense(1000, input_dim=11016, activation='relu'))\n",
    "# model.add(Dropout(.5))\n",
    "model.add(Dense(100, activation='relu'))\n",
    "# model.add(Dropout(.5))\n",
    "model.add(Dense(10, activation='relu'))\n",
    "# model.add(Dropout(.5))\n",
    "model.add(Dense(10, activation='relu'))\n",
    "# model.add(Dropout(.5))\n",
    "model.add(Dense(1))\n",
    "# model.add(Dropout(.5))\n",
    "\n",
    "model.compile(optimizer=\"adam\", loss='mean_squared_error', metrics=['accuracy'])\n",
    "\n",
    "model.fit(train, np.asarray(training_tgts), batch_size=32, epochs=20, verbose=1)\n",
    "\n",
    "score = model.evaluate(test_images[:-1], np.asarray(test_tgts), verbose=1)\n",
    "print(\"\\nSCORE:\", score)\n",
    "\n",
    "model.summary()\n",
    "\n",
    "predictions = model.predict(test_images[:-1])\n",
    "\n",
    "print(\"PREDICTIONS:\", predictions.T)\n",
    "print(\"ACTUAL:\", test_tgts)"
   ]
  },
  {
   "cell_type": "code",
   "execution_count": null,
   "metadata": {},
   "outputs": [],
   "source": [
    "print(predictions[10:20].T)\n",
    "print(test_tgts[10:20])"
   ]
  }
 ],
 "metadata": {
  "anaconda-cloud": {},
  "kernelspec": {
   "display_name": "Python 2",
   "language": "python",
   "name": "python2"
  },
  "language_info": {
   "codemirror_mode": {
    "name": "ipython",
    "version": 2
   },
   "file_extension": ".py",
   "mimetype": "text/x-python",
   "name": "python",
   "nbconvert_exporter": "python",
   "pygments_lexer": "ipython2",
   "version": "2.7.6"
  }
 },
 "nbformat": 4,
 "nbformat_minor": 1
}
